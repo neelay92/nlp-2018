{
 "cells": [
  {
   "cell_type": "markdown",
   "metadata": {},
   "source": [
    "# NLP Assignment $1$\n",
    "\n",
    "*Neelay Upadhyaya __18210053__*\n",
    "\n",
    "*M.Tech CSE*"
   ]
  },
  {
   "cell_type": "markdown",
   "metadata": {},
   "source": [
    "#### Assignment Task\n",
    "\n",
    "- Download any one of the text dataset mentioned in the previous lecture. \n",
    "\n",
    "- Compute tokens, types, and TTR.\n",
    "\n",
    "- Plot Zipf’s law and check if Zipf’s law holds true for meanings and lengths. When and when not?\n",
    "\n",
    "- Plot Heaps’ law. Fit a curve and report the estimated K and β values\n"
   ]
  },
  {
   "cell_type": "markdown",
   "metadata": {},
   "source": [
    "#### Radio Button for dataset.\n",
    "##### By default it's Mark Twain's Tom Sawyer"
   ]
  },
  {
   "cell_type": "code",
   "execution_count": 1,
   "metadata": {},
   "outputs": [
    {
     "data": {
      "application/vnd.jupyter.widget-view+json": {
       "model_id": "466afb7e430d40adaaf2dc0545e8ee68",
       "version_major": 2,
       "version_minor": 0
      },
      "text/plain": [
       "RadioButtons(description='Select Dataset:', options=('Tom Sawyer', 'Shakespeare'), value='Tom Sawyer')"
      ]
     },
     "metadata": {},
     "output_type": "display_data"
    }
   ],
   "source": [
    "import ipywidgets as widgets\n",
    "radio = widgets.RadioButtons(\n",
    "    options=['Tom Sawyer', 'Shakespeare'],\n",
    "    description='Select Dataset:'\n",
    ")\n",
    "display(radio)"
   ]
  },
  {
   "cell_type": "code",
   "execution_count": 2,
   "metadata": {},
   "outputs": [],
   "source": [
    "# We will use nltk for tokenizing\n",
    "# so let's import\n",
    "from nltk.tokenize import regexp_tokenize"
   ]
  },
  {
   "cell_type": "code",
   "execution_count": 3,
   "metadata": {},
   "outputs": [],
   "source": [
    "# what dataset have we selected?\n",
    "dataset = radio.value"
   ]
  },
  {
   "cell_type": "code",
   "execution_count": 4,
   "metadata": {},
   "outputs": [
    {
     "name": "stdout",
     "output_type": "stream",
     "text": [
      "Dataset selected: Shakespeare\n"
     ]
    }
   ],
   "source": [
    "print(\"Dataset selected: \" + dataset)\n",
    "\n",
    "# open the corresponding dataset file\n",
    "file = open(dataset.lower().replace(' ', '_') + \".txt\")\n",
    "\n",
    "# tokenize\n",
    "tokens = regexp_tokenize(file.read(), \"[\\w']+\")\n",
    "\n",
    "# normalize the data to lowercase\n",
    "tokens = [w.lower() for w in tokens]"
   ]
  },
  {
   "cell_type": "markdown",
   "metadata": {},
   "source": [
    "---\n",
    "#### TOKENS"
   ]
  },
  {
   "cell_type": "code",
   "execution_count": 5,
   "metadata": {},
   "outputs": [
    {
     "name": "stdout",
     "output_type": "stream",
     "text": [
      "Tokens: 493434\n"
     ]
    }
   ],
   "source": [
    "# Length of the tokens\n",
    "token_length = len(tokens)\n",
    "print(\"Tokens: \" + str(token_length))"
   ]
  },
  {
   "cell_type": "markdown",
   "metadata": {},
   "source": [
    "---\n",
    "#### TYPES"
   ]
  },
  {
   "cell_type": "code",
   "execution_count": 6,
   "metadata": {
    "scrolled": true
   },
   "outputs": [
    {
     "name": "stdout",
     "output_type": "stream",
     "text": [
      "Types: 21130\n"
     ]
    }
   ],
   "source": [
    "# Length of types\n",
    "type_length = len(sorted(set(tokens)))\n",
    "print(\"Types: \" + str(type_length))"
   ]
  },
  {
   "cell_type": "markdown",
   "metadata": {},
   "source": [
    "---\n",
    "#### Type / Token Ratio $(TTR)$"
   ]
  },
  {
   "cell_type": "code",
   "execution_count": 7,
   "metadata": {
    "scrolled": true
   },
   "outputs": [
    {
     "name": "stdout",
     "output_type": "stream",
     "text": [
      "TTR: 0.042822343008386124\n"
     ]
    }
   ],
   "source": [
    "# type / token ratio\n",
    "ttr = type_length / token_length\n",
    "print(\"TTR: \" + str(ttr))"
   ]
  },
  {
   "cell_type": "code",
   "execution_count": 8,
   "metadata": {},
   "outputs": [],
   "source": [
    "# We will now map tokens to their frequencies\n",
    "token_dict = {}\n",
    "for token in tokens:\n",
    "    # if token doesn't exist, return 0\n",
    "    freq = token_dict.get(token, 0)\n",
    "    token_dict[token] = freq + 1\n",
    "\n",
    "# sort the token_dict according to the frequency in descending order\n",
    "token_list = sorted(list(token_dict.items()), key=lambda x: x[1],reverse=True)"
   ]
  },
  {
   "cell_type": "code",
   "execution_count": 9,
   "metadata": {},
   "outputs": [
    {
     "name": "stdout",
     "output_type": "stream",
     "text": [
      "Requirement already satisfied: pandas in /Library/Frameworks/Python.framework/Versions/3.7/lib/python3.7/site-packages (0.23.4)\r\n",
      "Requirement already satisfied: numpy>=1.9.0 in /Library/Frameworks/Python.framework/Versions/3.7/lib/python3.7/site-packages (from pandas) (1.15.0)\r\n",
      "Requirement already satisfied: pytz>=2011k in /Library/Frameworks/Python.framework/Versions/3.7/lib/python3.7/site-packages (from pandas) (2018.5)\r\n",
      "Requirement already satisfied: python-dateutil>=2.5.0 in /Library/Frameworks/Python.framework/Versions/3.7/lib/python3.7/site-packages (from pandas) (2.7.3)\r\n",
      "Requirement already satisfied: six>=1.5 in /Library/Frameworks/Python.framework/Versions/3.7/lib/python3.7/site-packages (from python-dateutil>=2.5.0->pandas) (1.11.0)\r\n"
     ]
    }
   ],
   "source": [
    "# optional if pandas is not installed.\n",
    "# Pandas is used to show the data in a table.\n",
    "!pip install pandas\n"
   ]
  },
  {
   "cell_type": "code",
   "execution_count": 10,
   "metadata": {},
   "outputs": [
    {
     "data": {
      "text/html": [
       "<div>\n",
       "<style scoped>\n",
       "    .dataframe tbody tr th:only-of-type {\n",
       "        vertical-align: middle;\n",
       "    }\n",
       "\n",
       "    .dataframe tbody tr th {\n",
       "        vertical-align: top;\n",
       "    }\n",
       "\n",
       "    .dataframe thead th {\n",
       "        text-align: right;\n",
       "    }\n",
       "</style>\n",
       "<table border=\"1\" class=\"dataframe\">\n",
       "  <thead>\n",
       "    <tr style=\"text-align: right;\">\n",
       "      <th>rank</th>\n",
       "      <th>word</th>\n",
       "      <th>frequency</th>\n",
       "    </tr>\n",
       "  </thead>\n",
       "  <tbody>\n",
       "    <tr>\n",
       "      <th>1</th>\n",
       "      <td>the</td>\n",
       "      <td>16155</td>\n",
       "    </tr>\n",
       "    <tr>\n",
       "      <th>2</th>\n",
       "      <td>and</td>\n",
       "      <td>14718</td>\n",
       "    </tr>\n",
       "    <tr>\n",
       "      <th>3</th>\n",
       "      <td>to</td>\n",
       "      <td>10815</td>\n",
       "    </tr>\n",
       "    <tr>\n",
       "      <th>4</th>\n",
       "      <td>of</td>\n",
       "      <td>10527</td>\n",
       "    </tr>\n",
       "    <tr>\n",
       "      <th>5</th>\n",
       "      <td>i</td>\n",
       "      <td>10483</td>\n",
       "    </tr>\n",
       "    <tr>\n",
       "      <th>6</th>\n",
       "      <td>a</td>\n",
       "      <td>7834</td>\n",
       "    </tr>\n",
       "    <tr>\n",
       "      <th>7</th>\n",
       "      <td>you</td>\n",
       "      <td>7145</td>\n",
       "    </tr>\n",
       "    <tr>\n",
       "      <th>8</th>\n",
       "      <td>my</td>\n",
       "      <td>6670</td>\n",
       "    </tr>\n",
       "    <tr>\n",
       "      <th>9</th>\n",
       "      <td>in</td>\n",
       "      <td>6166</td>\n",
       "    </tr>\n",
       "    <tr>\n",
       "      <th>10</th>\n",
       "      <td>that</td>\n",
       "      <td>6071</td>\n",
       "    </tr>\n",
       "    <tr>\n",
       "      <th>11</th>\n",
       "      <td>is</td>\n",
       "      <td>4836</td>\n",
       "    </tr>\n",
       "    <tr>\n",
       "      <th>12</th>\n",
       "      <td>not</td>\n",
       "      <td>4557</td>\n",
       "    </tr>\n",
       "    <tr>\n",
       "      <th>13</th>\n",
       "      <td>with</td>\n",
       "      <td>4279</td>\n",
       "    </tr>\n",
       "    <tr>\n",
       "      <th>14</th>\n",
       "      <td>it</td>\n",
       "      <td>4156</td>\n",
       "    </tr>\n",
       "    <tr>\n",
       "      <th>15</th>\n",
       "      <td>his</td>\n",
       "      <td>4143</td>\n",
       "    </tr>\n",
       "    <tr>\n",
       "      <th>16</th>\n",
       "      <td>for</td>\n",
       "      <td>4095</td>\n",
       "    </tr>\n",
       "    <tr>\n",
       "      <th>17</th>\n",
       "      <td>me</td>\n",
       "      <td>4005</td>\n",
       "    </tr>\n",
       "    <tr>\n",
       "      <th>18</th>\n",
       "      <td>be</td>\n",
       "      <td>3703</td>\n",
       "    </tr>\n",
       "    <tr>\n",
       "      <th>19</th>\n",
       "      <td>your</td>\n",
       "      <td>3690</td>\n",
       "    </tr>\n",
       "    <tr>\n",
       "      <th>20</th>\n",
       "      <td>this</td>\n",
       "      <td>3678</td>\n",
       "    </tr>\n",
       "    <tr>\n",
       "      <th>21</th>\n",
       "      <td>he</td>\n",
       "      <td>3539</td>\n",
       "    </tr>\n",
       "    <tr>\n",
       "      <th>22</th>\n",
       "      <td>but</td>\n",
       "      <td>3435</td>\n",
       "    </tr>\n",
       "    <tr>\n",
       "      <th>23</th>\n",
       "      <td>have</td>\n",
       "      <td>3214</td>\n",
       "    </tr>\n",
       "    <tr>\n",
       "      <th>24</th>\n",
       "      <td>as</td>\n",
       "      <td>3120</td>\n",
       "    </tr>\n",
       "    <tr>\n",
       "      <th>25</th>\n",
       "      <td>thou</td>\n",
       "      <td>2984</td>\n",
       "    </tr>\n",
       "    <tr>\n",
       "      <th>26</th>\n",
       "      <td>him</td>\n",
       "      <td>2925</td>\n",
       "    </tr>\n",
       "    <tr>\n",
       "      <th>27</th>\n",
       "      <td>so</td>\n",
       "      <td>2812</td>\n",
       "    </tr>\n",
       "    <tr>\n",
       "      <th>28</th>\n",
       "      <td>will</td>\n",
       "      <td>2666</td>\n",
       "    </tr>\n",
       "    <tr>\n",
       "      <th>29</th>\n",
       "      <td>what</td>\n",
       "      <td>2337</td>\n",
       "    </tr>\n",
       "    <tr>\n",
       "      <th>30</th>\n",
       "      <td>thy</td>\n",
       "      <td>2226</td>\n",
       "    </tr>\n",
       "  </tbody>\n",
       "</table>\n",
       "</div>"
      ],
      "text/plain": [
       "rank  word  frequency\n",
       "1      the      16155\n",
       "2      and      14718\n",
       "3       to      10815\n",
       "4       of      10527\n",
       "5        i      10483\n",
       "6        a       7834\n",
       "7      you       7145\n",
       "8       my       6670\n",
       "9       in       6166\n",
       "10    that       6071\n",
       "11      is       4836\n",
       "12     not       4557\n",
       "13    with       4279\n",
       "14      it       4156\n",
       "15     his       4143\n",
       "16     for       4095\n",
       "17      me       4005\n",
       "18      be       3703\n",
       "19    your       3690\n",
       "20    this       3678\n",
       "21      he       3539\n",
       "22     but       3435\n",
       "23    have       3214\n",
       "24      as       3120\n",
       "25    thou       2984\n",
       "26     him       2925\n",
       "27      so       2812\n",
       "28    will       2666\n",
       "29    what       2337\n",
       "30     thy       2226"
      ]
     },
     "metadata": {},
     "output_type": "display_data"
    }
   ],
   "source": [
    "import pandas as panda\n",
    "\n",
    "# we will show 30 most frequent tokens\n",
    "most_common = token_list[:30]\n",
    "data_frame = panda.DataFrame(most_common, columns=['word', 'frequency'])\n",
    "\n",
    "# ranking starts from 1\n",
    "data_frame.index = data_frame.index + 1\n",
    "\n",
    "# Index column name\n",
    "data_frame.columns.name = \"rank\"\n",
    "\n",
    "display(data_frame)"
   ]
  },
  {
   "cell_type": "markdown",
   "metadata": {},
   "source": [
    "### Zipf's Law###\n",
    "\n",
    "**A relationship between the frequency of a word ( $f$ ) and its position in the list (its rank $r$).**\n",
    "\n",
    "\n",
    "---\n",
    "\n",
    "\n",
    "\n",
    "### $f \\propto \\frac{1}{r}$ ###"
   ]
  },
  {
   "cell_type": "code",
   "execution_count": 16,
   "metadata": {},
   "outputs": [
    {
     "data": {
      "image/png": "[encoded data removed]",
      "text/plain": [
       "<Figure size 432x288 with 1 Axes>"
      ]
     },
     "metadata": {},
     "output_type": "display_data"
    }
   ],
   "source": [
    "# plotting frequency distribution\n",
    "from nltk.probability import FreqDist\n",
    "\n",
    "freq_dist = FreqDist(tokens)\n",
    "freq_dist.plot(30, title=\"Zipf's Law for \" + dataset)\n"
   ]
  },
  {
   "cell_type": "markdown",
   "metadata": {},
   "source": [
    "**In the above figure, we have $30$ samples**"
   ]
  },
  {
   "cell_type": "code",
   "execution_count": 12,
   "metadata": {},
   "outputs": [
    {
     "data": {
      "image/png": "[encoded data removed]",
      "text/plain": [
       "<Figure size 432x288 with 1 Axes>"
      ]
     },
     "metadata": {},
     "output_type": "display_data"
    }
   ],
   "source": [
    "# plotting the whole graph\n",
    "import matplotlib.pyplot as pyplot\n",
    "\n",
    "pyplot.plot([r for r in range(1, len(token_list) + 1)], [i[1] for i in token_list])\n",
    "\n",
    "pyplot.xlabel('Rank(r)')\n",
    "pyplot.ylabel('Frequency(f)')\n",
    "pyplot.title(\"Zipf's Law for \" + dataset)\n",
    "\n",
    "pyplot.show()\n"
   ]
  },
  {
   "cell_type": "markdown",
   "metadata": {},
   "source": [
    "**In the above figure, we plot the whole Graph**\n",
    "\n",
    "---"
   ]
  },
  {
   "cell_type": "markdown",
   "metadata": {},
   "source": [
    "### Correlation: Word length and word frequency ###\n",
    "\n",
    "**Word frequency ( $f$ ) is inversely proportional to their length ( $l$ ).**\n",
    "\n",
    "---\n",
    "\n",
    "### $l \\propto \\frac{1}{f} $###"
   ]
  },
  {
   "cell_type": "code",
   "execution_count": 13,
   "metadata": {},
   "outputs": [
    {
     "data": {
      "image/png": "[encoded data removed]",
      "text/plain": [
       "<Figure size 432x288 with 1 Axes>"
      ]
     },
     "metadata": {},
     "output_type": "display_data"
    },
    {
     "name": "stdout",
     "output_type": "stream",
     "text": [
      "     4      3      2      5      6      7      1      8      9     10     11     12     13     14     15     16     27 \n",
      "113862 103244  81837  61325  42258  31043  20134  19672  10764   5841   2211    801    264    132     39      6      1 \n"
     ]
    }
   ],
   "source": [
    "# finding all lengths\n",
    "lengths = [len(w) for w in tokens]\n",
    "\n",
    "length_freq_dist = FreqDist(lengths)\n",
    "\n",
    "length_freq_dist.plot(title=\"Zipf's Law for \" + dataset)\n",
    "\n",
    "length_freq_dist.tabulate()"
   ]
  },
  {
   "cell_type": "markdown",
   "metadata": {},
   "source": [
    "From the above figure, it is clear that relation between $l$ and $f$ does not hold for words of length $1$\n",
    "\n",
    "---"
   ]
  },
  {
   "cell_type": "markdown",
   "metadata": {},
   "source": [
    "### Correlation: Number of meanings and word frequency ###\n",
    "\n",
    "**The number of meanings ( $m$ ) of a word obeys the law:**\n",
    "\n",
    "---\n",
    "\n",
    "### $ m \\propto \\sqrt{f} $ ###"
   ]
  },
  {
   "cell_type": "code",
   "execution_count": 14,
   "metadata": {},
   "outputs": [
    {
     "data": {
      "image/png": "[encoded data removed]",
      "text/plain": [
       "<Figure size 432x288 with 1 Axes>"
      ]
     },
     "metadata": {},
     "output_type": "display_data"
    },
    {
     "name": "stdout",
     "output_type": "stream",
     "text": [
      "Token:chronicle, Frequency: 5, Meanings: 2\n",
      "Token:kill, Frequency: 95, Meanings: 5\n",
      "Token:dainty, Frequency: 10, Meanings: 3\n",
      "Token:across, Frequency: 4, Meanings: 3\n",
      "Token:place, Frequency: 264, Meanings: 8\n",
      "Token:back, Frequency: 205, Meanings: 13\n",
      "Token:keep, Frequency: 272, Meanings: 7\n",
      "Token:well, Frequency: 1193, Meanings: 12\n",
      "Token:will, Frequency: 2666, Meanings: 10\n",
      "Token:last, Frequency: 153, Meanings: 9\n",
      "Token:get, Frequency: 157, Meanings: 10\n",
      "Token:do, Frequency: 1935, Meanings: 14\n",
      "Token:good, Frequency: 1495, Meanings: 11\n",
      "Token:like, Frequency: 1051, Meanings: 11\n"
     ]
    }
   ],
   "source": [
    "meaning_dict = {\n",
    "    'chronicle': [token_dict.get('chronicle'), 2],\n",
    "    'kill': [token_dict.get('kill'), 5],\n",
    "    'dainty': [token_dict.get('dainty'), 3],\n",
    "    'across': [token_dict.get('across'), 3],\n",
    "    'place': [token_dict.get('place'), 8],\n",
    "    'back': [token_dict.get('back'), 13],\n",
    "    'keep': [token_dict.get('keep'), 7],\n",
    "    'well': [token_dict.get('well'), 12],\n",
    "    'will': [token_dict.get('will'), 10],\n",
    "    'last': [token_dict.get('last'), 9],\n",
    "    'get': [token_dict.get('get'), 10],\n",
    "    'do': [token_dict.get('do'), 14],\n",
    "    'good': [token_dict.get('good'), 11],\n",
    "    'like': [token_dict.get('like'), 11],\n",
    "    \n",
    "}\n",
    "pyplot.plot(*zip(*sorted(list(meaning_dict.values()))))\n",
    "\n",
    "pyplot.xlabel('Frequency(f)')\n",
    "pyplot.ylabel('Meanings(m)')\n",
    "pyplot.title(\"Zipf's Law for \" + dataset)\n",
    "\n",
    "pyplot.show()\n",
    "\n",
    "for key, value in meaning_dict.items():\n",
    "    print(\"Token:\" + key + \", Frequency: \" + str(value[0]) + \", Meanings: \" + str(value[1]))"
   ]
  },
  {
   "cell_type": "markdown",
   "metadata": {},
   "source": [
    "### Heap's Law ###\n",
    "\n",
    "Let $\\left |  V \\right |$ be the size of vocabulary and $N$ be the number of tokens.\n",
    "\n",
    "---\n",
    "\n",
    "#### $\\left |  V \\right | = K N^{\\beta}$ ####\n",
    "\n",
    "\n",
    "$ \\Rightarrow \\log{\\left |  V \\right |} = \\log{K} + \\beta.\\log{N}$\n",
    "\n",
    "\n",
    "\n",
    "$ \\Rightarrow y = c + m.x$"
   ]
  },
  {
   "cell_type": "code",
   "execution_count": 15,
   "metadata": {
    "scrolled": true
   },
   "outputs": [
    {
     "data": {
      "image/png": "[encoded data removed]",
      "text/plain": [
       "<Figure size 432x288 with 1 Axes>"
      ]
     },
     "metadata": {},
     "output_type": "display_data"
    },
    {
     "name": "stdout",
     "output_type": "stream",
     "text": [
      "Value of K: 12.748329893793445\n",
      "Value of B: 0.5687119879326396\n"
     ]
    }
   ],
   "source": [
    "from math import log, exp\n",
    "from numpy import polyfit\n",
    "import matplotlib.pyplot as plt\n",
    "token_n = set()\n",
    "heaps_x_y = []\n",
    "log_heaps_x_y = []\n",
    "\n",
    "for i, token in enumerate(tokens):\n",
    "    token_n.add(token)\n",
    "    log_heaps_x_y.append((log(i + 1), log(len(token_n))))\n",
    "    heaps_x_y.append(((i + 1), len(token_n)))\n",
    "\n",
    "\n",
    "plt.plot(*zip(*sorted(heaps_x_y)))\n",
    "\n",
    "plt.show()\n",
    "\n",
    "slope, intercept = polyfit(*zip(*sorted(log_heaps_x_y)), 1)\n",
    "\n",
    "print(\"Value of K: \" + str(exp(intercept)))\n",
    "print(\"Value of B: \" + str(slope))"
   ]
  },
  {
   "cell_type": "markdown",
   "metadata": {},
   "source": [
    "Typically we have,\n",
    "- $K \\approx  10-100$\n",
    "- $\\beta \\approx  0.4 - 0.6$ (roughly square root)"
   ]
  }
 ],
 "metadata": {
  "kernelspec": {
   "display_name": "Python 3",
   "language": "python",
   "name": "python3"
  },
  "language_info": {
   "codemirror_mode": {
    "name": "ipython",
    "version": 3
   },
   "file_extension": ".py",
   "mimetype": "text/x-python",
   "name": "python",
   "nbconvert_exporter": "python",
   "pygments_lexer": "ipython3",
   "version": "3.7.0"
  }
 },
 "nbformat": 4,
 "nbformat_minor": 2
}
