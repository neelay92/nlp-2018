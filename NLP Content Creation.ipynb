{
 "cells": [
  {
   "cell_type": "markdown",
   "metadata": {},
   "source": [
    "### Word Sense Disambiguation"
   ]
  },
  {
   "cell_type": "markdown",
   "metadata": {},
   "source": [
    "Word Sense Disambiguation essentially deals with identifying the meaning of the word in the given context. The problems exists because a word can have multiple meanings, and depending on the context, the \"sense\" of the word is implied.\n",
    "\n",
    "\n",
    "Lets consider the word \"Plant\".\n",
    "\n",
    "It has two popular senses(or meanings):[[source](http://wordnetweb.princeton.edu/perl/webwn?s=plant&sub=Search+WordNet&o2=&o0=1&o8=1&o1=1&o7=&o5=&o9=&o6=&o3=&o4=&h=)].\n",
    "\n",
    "- **Sense 1**.(n) Buildings for carrying out industrial labour.\n",
    "    \n",
    "    e.g \"They set up a manufacturing plant in Surat.\"\n",
    "    \n",
    "    \n",
    "- **Sense 2**.(n) A living organism lacking the power of locomotion.\n",
    "\n",
    "    e.g \"Plants require sunlight for the process of photosynthesis.\"\n",
    "    \n",
    "So if we encounter the word \"Plant\" in our test corpus, how can we disambiguate the sense of the word?\n",
    "\n",
    "The most obvious solution would be to look at the context of the word, and determine its sense.\n",
    "\n",
    "Two popular approaches to solve this problem are:\n",
    "\n",
    "- Knowledge based approach\n",
    "\n",
    "    - Overlap Based Approches. ***(Lesk Algorithm)***\n",
    "\n",
    "- Machine Learning approach\n",
    "\n",
    "The Knowledge based approaches require a **Machine Readable Dictionary(MRD)**, which stores the different senses of each word.\n",
    "\n",
    "The idea in this approach is create a ***Context Bag*** and a ***Sense Bag***\n",
    "\n",
    "- ***Sense Bag*** contains the words in the definition of a candidate sense of the ambiguous word.\n",
    "\n",
    "- ***Context Bag*** contains the words in the definition of each sense of each context word.\n",
    "\n",
    "We try to find the overlap between the all the words in the sense bag with the context bag and assign a score. The sense with the largest score is the most likely.\n",
    "\n",
    "Now, we need to find a way in which we can assign the overlapping score. We will use the Lesk Algorithm for that purpose.[[source](https://en.wikipedia.org/wiki/Lesk_algorithm)]\n",
    "\n",
    "`LESK(word, sentence)\n",
    "    best-sense = most frequent sense for word\n",
    "    max-overlap = 0\n",
    "    context = set of words in sentence\n",
    "    for each sense in senses of word\n",
    "        signature = set of words in the gloss and examples of sense\n",
    "        overlap = LESK-SCORE(signature, context)\n",
    "        if overlap > max-overlap then\n",
    "            max-overlap = overlap\n",
    "            best-sense = sense\n",
    "    return best-sense`\n",
    "    \n",
    "    \n",
    "The *(extended)* lesk score for the given sense of the word is calculated as follows:\n",
    " \n",
    " - For every $n-gram$ which occurs in the Gloss of the context, we add a score of $n^2$\n",
    " \n",
    " - Start with the highest possible value of $n$, and reduce it by 1 at each step till we get $1-grams$\n",
    " \n",
    "Example-\n",
    "\n",
    "PINE \n",
    "    1. kinds of evergreen tree with needle-shaped leaves\n",
    "    2. waste away through sorrow or illness\n",
    "    \n",
    "CONE \n",
    "    1. solid body which narrows to a point\n",
    "    2. something of this shape whether solid or hollow\n",
    "    3. fruit of certain evergreen trees\n",
    "    \n",
    "Pine.01 and Cone.03 has a Lesk Score of $2^2 + 1^2 = 5$ ($2-gram$: ***evergreen tree***, $1-gram$: ***of***)\n",
    "\n",
    "Of course, one can use Lemmatization and Stemming on the words for comparing, if he/she wants to.\n",
    "\n",
    "But in case of ***NLTK***, it simply uses the words in the intersection.\n",
    "\n",
    "\n",
    "NLTK uses **WordNet**, a popular Machine Readable Dictionary, and internally uses Lesk's Algorithm for Word Sense Disambiguation.\n",
    "\n",
    "We will look at some examples for the same.\n",
    "\n",
    "WordNet is a English language developed by Princeton University, which can be downloaded in NLTK. It is considered as a machine-readable dictionary as it can be accessed from all high level languages like Python. It is typically a collection of words grouped together with their meanings.\n",
    "\n",
    "Unline the traditional dictionary, it ***establishes*** relationship between words, which establishes a hierarchy of senses of each word. The relations in WordNet are as follows:\n",
    "\n",
    "- **Hyponym**: It expresses a subclass relationship with the words. For e.g Car is a *hyponym* of Vehicle.\n",
    "- **Hypernym**: It is opposite of Hyponym and expresses superclass relationship. For e.g Animal is a *hypernym* of Tiger.\n",
    "- **Meronym**: It expresses 'is-a-part-of' relationship with the words. For e.g Nose is a *meronym* of Face.\n",
    "- **Holonym**: It is opposite of Meronym and expresses 'consists-of' relationship. For e.g Car is a *holonym* of Wheel."
   ]
  },
  {
   "cell_type": "code",
   "execution_count": 1,
   "metadata": {},
   "outputs": [
    {
     "name": "stdout",
     "output_type": "stream",
     "text": [
      "Requirement already satisfied: networkx in /Library/Frameworks/Python.framework/Versions/3.7/lib/python3.7/site-packages (2.2)\n",
      "Requirement already satisfied: decorator>=4.3.0 in /Library/Frameworks/Python.framework/Versions/3.7/lib/python3.7/site-packages (from networkx) (4.3.0)\n",
      "\u001b[33mYou are using pip version 18.0, however version 18.1 is available.\n",
      "You should consider upgrading via the 'pip install --upgrade pip' command.\u001b[0m\n"
     ]
    }
   ],
   "source": [
    "# Install networkx if not installed.\n",
    "!pip install networkx "
   ]
  },
  {
   "cell_type": "code",
   "execution_count": 2,
   "metadata": {},
   "outputs": [
    {
     "name": "stdout",
     "output_type": "stream",
     "text": [
      "[nltk_data] Downloading package wordnet to\n",
      "[nltk_data]     /Users/neelay.u/nltk_data...\n",
      "[nltk_data]   Package wordnet is already up-to-date!\n",
      "[nltk_data] Downloading package stopwords to\n",
      "[nltk_data]     /Users/neelay.u/nltk_data...\n",
      "[nltk_data]   Package stopwords is already up-to-date!\n"
     ]
    },
    {
     "data": {
      "text/plain": [
       "True"
      ]
     },
     "execution_count": 2,
     "metadata": {},
     "output_type": "execute_result"
    }
   ],
   "source": [
    "# Download the WordNet if not on the system.\n",
    "# Download English stop words.\n",
    "import nltk\n",
    "nltk.download('wordnet')\n",
    "nltk.download('stopwords')"
   ]
  },
  {
   "cell_type": "code",
   "execution_count": 3,
   "metadata": {},
   "outputs": [
    {
     "name": "stdout",
     "output_type": "stream",
     "text": [
      "Synset('plant.v.06') put firmly in the mind\n",
      "Synset('plant.v.05') place something or someone in a certain position in order to secretly observe or deceive\n"
     ]
    }
   ],
   "source": [
    "# Necessary Imports.\n",
    "from nltk.wsd import lesk\n",
    "from nltk.corpus import wordnet\n",
    "from nltk.tokenize import PunktSentenceTokenizer,sent_tokenize, word_tokenize\n",
    "from nltk.corpus import stopwords\n",
    "from nltk.stem import WordNetLemmatizer, PorterStemmer\n",
    "\n",
    "# Sample test sentences\n",
    "\n",
    "sent1 = word_tokenize(\"The idea is now planted in the minds of people.\")\n",
    "\n",
    "sent2 = word_tokenize(\"He planted a false evidence to get him arrested.\")\n",
    "\n",
    "\n",
    "# lesk(iterable list of words, name of the ambiguous word, POS tag, synset to be used)\n",
    "synset1 = lesk(sent1, 'plant', 'v')\n",
    "print(synset1, synset1.definition())\n",
    "\n",
    "synset2 = lesk(sent2, 'plant', 'v')\n",
    "print(synset2, synset2.definition())"
   ]
  },
  {
   "cell_type": "code",
   "execution_count": 4,
   "metadata": {},
   "outputs": [
    {
     "name": "stdout",
     "output_type": "stream",
     "text": [
      "Synset('plant.n.01') buildings for carrying on industrial labor\n",
      "Synset('plant.n.02') (botany) a living organism lacking the power of locomotion\n",
      "Synset('plant.n.03') an actor situated in the audience whose acting is rehearsed but seems spontaneous to the audience\n",
      "Synset('plant.n.04') something planted secretly for discovery by another\n",
      "Synset('plant.v.01') put or set (seeds, seedlings, or plants) into the ground\n",
      "Synset('implant.v.01') fix or set securely or deeply\n",
      "Synset('establish.v.02') set up or lay the groundwork for\n",
      "Synset('plant.v.04') place into a river\n",
      "Synset('plant.v.05') place something or someone in a certain position in order to secretly observe or deceive\n",
      "Synset('plant.v.06') put firmly in the mind\n"
     ]
    }
   ],
   "source": [
    "# To see the senses and their glosses\n",
    "\n",
    "for synset in wordnet.synsets('plant'):\n",
    "    print(synset, synset.definition())"
   ]
  },
  {
   "cell_type": "markdown",
   "metadata": {},
   "source": [
    "We now look at a nice application of WordNet which shows the relationships with various synsets.[[source](http://www.randomhacks.net/2009/12/29/visualizing-wordnet-relationships-as-graphs/)]"
   ]
  },
  {
   "cell_type": "code",
   "execution_count": 8,
   "metadata": {},
   "outputs": [
    {
     "data": {
      "image/png": "[encoded data removed]",
      "text/plain": [
       "<Figure size 432x288 with 1 Axes>"
      ]
     },
     "metadata": {},
     "output_type": "display_data"
    }
   ],
   "source": [
    "import networkx as nx\n",
    "\n",
    "def closure_graph(synset, fn):\n",
    "    is_seen = set()\n",
    "    \n",
    "    graph = nx.DiGraph()\n",
    "\n",
    "    def recurse_call(syn):\n",
    "        if not syn in is_seen:\n",
    "            is_seen.add(syn)\n",
    "            graph.add_node(syn.name())\n",
    "            for s in fn(syn):\n",
    "                graph.add_node(s.name())\n",
    "                graph.add_edge(syn.name(), s.name())\n",
    "                recurse_call(s)\n",
    "\n",
    "    recurse_call(synset)\n",
    "    return graph\n",
    "\n",
    "# Draw the graph\n",
    "graph = closure_graph(wordnet.synset('plant.v.01'), lambda s: s.hyponyms())\n",
    "nx.draw(graph, with_labels = True)\n"
   ]
  },
  {
   "cell_type": "markdown",
   "metadata": {},
   "source": [
    "Now we look at the reason why Lesk's Algorithm would fail.\n",
    "\n",
    "Lesk doesn't consider synonyms and sometimes would fail because of unncessary function words."
   ]
  },
  {
   "cell_type": "code",
   "execution_count": 9,
   "metadata": {},
   "outputs": [
    {
     "name": "stdout",
     "output_type": "stream",
     "text": [
      "Synset('plant.n.02') (botany) a living organism lacking the power of locomotion\n",
      "Synset('plant.n.03') an actor situated in the audience whose acting is rehearsed but seems spontaneous to the audience\n"
     ]
    }
   ],
   "source": [
    "fail_sent1 = word_tokenize(\"The green cover of plants look beautiful.\")\n",
    "\n",
    "fail_sent2 = word_tokenize(\"He set up a manufacturing plant in Surat.\")\n",
    "\n",
    "synset1 = lesk(fail_sent1, 'plant', 'n')\n",
    "print(synset1, synset1.definition())\n",
    "\n",
    "synset2 = lesk(fail_sent2, 'plant', 'n')\n",
    "print(synset2, synset2.definition())"
   ]
  },
  {
   "cell_type": "markdown",
   "metadata": {},
   "source": [
    "Therfore we try to avoid Lesk and disambiguate using other techniques.\n",
    "We can build a nice tool using NLTK to achieve that purpose."
   ]
  },
  {
   "cell_type": "code",
   "execution_count": 10,
   "metadata": {},
   "outputs": [],
   "source": [
    "def stem_and_syn(sentence):\n",
    "    \n",
    "    \"\"\"\n",
    "    This function will apply Stemming and Lemmatization on the input.\n",
    "    We then add synonym words.\n",
    "    \"\"\"\n",
    "        \n",
    "    filtered_sent = []\n",
    "    \n",
    "    # lemmatizes the words.\n",
    "    lemmatizer = WordNetLemmatizer()\n",
    "    \n",
    "    # stemmer stems the root of the word.\n",
    "    stemmer = PorterStemmer()  \n",
    "\n",
    "    # remove stop words.\n",
    "    english_stop_words = stopwords.words(\"english\")\n",
    "    \n",
    "    # Tokenize each word.\n",
    "    words = word_tokenize(sentence)\n",
    "    \n",
    "    for w in words:\n",
    "        if w not in english_stop_words + [',', '.', '?', \"'\"]:\n",
    "            filtered_sent.append(lemmatizer.lemmatize(stemmer.stem(w)))\n",
    "            for i in get_synonyms(w):\n",
    "                filtered_sent.append(i)\n",
    "                \n",
    "    return list(set(filtered_sent))\n",
    "\n",
    "\n",
    "def get_synonyms(word):\n",
    "    \n",
    "    \"\"\"\n",
    "    This function will find synset synonyms for the given word.\n",
    "    \"\"\"\n",
    "    synonyms = [lemma.name() for syn in wordnet.synsets(word) for lemma in syn.lemmas()]\n",
    "    \n",
    "    return synonyms\n"
   ]
  },
  {
   "cell_type": "code",
   "execution_count": 11,
   "metadata": {},
   "outputs": [
    {
     "name": "stdout",
     "output_type": "stream",
     "text": [
      "Enter a sentence in which you want to disambiguate the word \"plant\": The green cover of plants look beautiful.\n",
      "Biological Plant\n",
      "Enter a sentence in which you want to disambiguate the word \"plant\": They set up a manufacturing plant in Surat.\n",
      "Industrial Plant\n",
      "Enter a sentence in which you want to disambiguate the word \"plant\": living organisms which require oxygen.\n",
      "Biological Plant\n",
      "Enter a sentence in which you want to disambiguate the word \"plant\": A large investment of land is required\n",
      "Industrial Plant\n",
      "Enter a sentence in which you want to disambiguate the word \"plant\": those who bear fruits and eatables\n",
      "Biological Plant\n",
      "Enter a sentence in which you want to disambiguate the word \"plant\": the one which causes tremendous pollution\n",
      "Industrial Plant\n",
      "Enter a sentence in which you want to disambiguate the word \"plant\": skilled labours work there\n",
      "Industrial Plant\n",
      "Enter a sentence in which you want to disambiguate the word \"plant\": end\n",
      "**********\n"
     ]
    }
   ],
   "source": [
    "def get_similarity(word1, word2):\n",
    "\n",
    "    \"\"\"\n",
    "    This function calculates lin's similarity\n",
    "    \"\"\"\n",
    "    \n",
    "    word1 = word1 + \".n.01\"\n",
    "    word2 = word2 + \".n.01\"\n",
    "    \n",
    "    try:\n",
    "        \n",
    "        w1 = wordnet.synset(word1)\n",
    "        w2 = wordnet.synset(word2)\n",
    "        \n",
    "        return w2.wup_similarity(w1)\n",
    "\n",
    "    except:\n",
    "        # If there is any word for which synset doesn't exist.\n",
    "        return 0\n",
    "\n",
    "\n",
    "def filter_sentence(sentence):\n",
    "    \n",
    "    \"\"\"\n",
    "    This function will apply only lemmatization.\n",
    "    \"\"\"\n",
    "    \n",
    "    lemmatizer = WordNetLemmatizer()\n",
    "    stop_words = stopwords.words(\"english\")\n",
    "    words = word_tokenize(sentence)\n",
    "\n",
    "    filtered_sent = [lemmatizer.lemmatize(word) for word in words if word not in stop_words + [',', '.', '?', \"'\"]]\n",
    "    \n",
    "    return list(set(filtered_sent))\n",
    "\n",
    "# Open training data set.\n",
    "# Source: wikipedia\n",
    "\n",
    "bio_plants = open(\"biological-plants.txt\", 'r')\n",
    "bio_text = bio_plants.read().lower()\n",
    "\n",
    "ind_plants = open(\"industrial-plants.txt\", 'r')\n",
    "ind_text = ind_plants.read().lower()\n",
    "\n",
    "user_query = \"\"\n",
    "\n",
    "while user_query != \"end\":\n",
    "\n",
    "    user_query = input('Enter a sentence in which you want to disambiguate the word \"plant\": ').lower()\n",
    "    \n",
    "    if user_query == 'end':\n",
    "        break\n",
    "    \n",
    "    bio_similarity_score = 0\n",
    "    ind_similarity_score = 0\n",
    "\n",
    "    filtered_bio_text = filter_sentence(bio_text)\n",
    "    filtered_ind_text = filter_sentence(ind_text)\n",
    "    filtered_user_query = filter_sentence(user_query)\n",
    "\n",
    "    for query_word in filtered_user_query:\n",
    "\n",
    "        for bio_word in filtered_bio_text:\n",
    "            bio_similarity_score += get_similarity(query_word, bio_word)\n",
    "\n",
    "        for ind_word in filtered_ind_text:\n",
    "            ind_similarity_score += get_similarity(query_word, ind_word)\n",
    "\n",
    "\n",
    "    filtered_bio_text = stem_and_syn(bio_text)\n",
    "    filtered_ind_text = stem_and_syn(ind_text)\n",
    "    filtered_user_query = stem_and_syn(user_query)\n",
    "    \n",
    "    # We calculate the intersection count with the query word synonyms and data set synonyms.\n",
    "    bio_interection_count = len([word for word in filtered_bio_text if word in filtered_user_query])\n",
    "    ind_interection_count = len([word for word in filtered_ind_text if word in filtered_user_query])\n",
    "    \n",
    "    # print(bio_similarity_score, bio_interection_count, ind_similarity_score, ind_interection_count)\n",
    "    \n",
    "    if bio_interection_count + bio_similarity_score > ind_interection_count + ind_similarity_score:\n",
    "        print(\"Biological Plant\")\n",
    "    else:\n",
    "        print(\"Industrial Plant\")\n",
    "\n",
    "        \n",
    "# Possible Queries:\n",
    "# The green cover of plants look beautiful. ==> Biological Plant\n",
    "# They set up a manufacturing plant in Surat. ==> Industrial Plant\n",
    "# living organisms which require oxygen. ==> Biological Plant\n",
    "# A large investment of land is required ==> Industrial Plant\n",
    "# those who bear fruits and eatables ==> Biological Plant\n",
    "# the one which causes tremendous pollution ==> Industrial Plant\n",
    "# skilled labours work there ==> Industrial Plant\n",
    "print(\"*\" * 10)"
   ]
  },
  {
   "cell_type": "markdown",
   "metadata": {},
   "source": [
    "In conclusion, Lesk algorithm does well if we are looking for exact matches. We can achieve good results if we consider synomyms of the words. Additionally, a better data set would be even better as it would cover more vocabulary.\n",
    "\n",
    "### References:\n",
    "[1] https://towardsdatascience.com/a-simple-word-sense-disambiguation-application-3ca645c56357\n",
    "\n",
    "[2] https://www.linkedin.com/pulse/wordnet-word-sense-disambiguation-wsd-nltk-aswathi-nambiar\n",
    "\n",
    "[3] http://www.nltk.org/howto/wordnet.html\n",
    "\n",
    "[4] http://www.randomhacks.net/2009/12/29/visualizing-wordnet-relationships-as-graphs/\n"
   ]
  }
 ],
 "metadata": {
  "kernelspec": {
   "display_name": "Python 3",
   "language": "python",
   "name": "python3"
  },
  "language_info": {
   "codemirror_mode": {
    "name": "ipython",
    "version": 3
   },
   "file_extension": ".py",
   "mimetype": "text/x-python",
   "name": "python",
   "nbconvert_exporter": "python",
   "pygments_lexer": "ipython3",
   "version": "3.7.0"
  }
 },
 "nbformat": 4,
 "nbformat_minor": 2
}
